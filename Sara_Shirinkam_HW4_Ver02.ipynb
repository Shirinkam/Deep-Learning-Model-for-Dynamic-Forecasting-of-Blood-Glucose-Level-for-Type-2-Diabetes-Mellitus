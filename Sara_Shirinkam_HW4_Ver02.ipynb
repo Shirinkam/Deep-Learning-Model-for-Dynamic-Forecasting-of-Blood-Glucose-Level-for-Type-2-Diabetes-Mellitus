{
  "nbformat": 4,
  "nbformat_minor": 0,
  "metadata": {
    "colab": {
      "name": "Sara Shirinkam_HW4_Ver02.ipynb",
      "provenance": [],
      "collapsed_sections": [],
      "include_colab_link": true
    },
    "kernelspec": {
      "name": "python3",
      "display_name": "Python 3"
    },
    "language_info": {
      "name": "python"
    }
  },
  "cells": [
    {
      "cell_type": "markdown",
      "metadata": {
        "id": "view-in-github",
        "colab_type": "text"
      },
      "source": [
        "<a href=\"https://colab.research.google.com/github/sshirinkam-creator/Deep-Learning-Model-for-Dynamic-Forecasting-of-Blood-Glucose-Level-for-Type-2-Diabetes-Mellitus/blob/main/Sara_Shirinkam_HW4_Ver02.ipynb\" target=\"_parent\"><img src=\"https://colab.research.google.com/assets/colab-badge.svg\" alt=\"Open In Colab\"/></a>"
      ]
    },
    {
      "cell_type": "markdown",
      "metadata": {
        "id": "pCupLSZY3NlT"
      },
      "source": [
        "## Sara Shirinkam\n",
        "## HW 4"
      ]
    },
    {
      "cell_type": "markdown",
      "metadata": {
        "id": "A8Kif9WreHHg"
      },
      "source": [
        "## P1 (35pt):\n",
        "Write a Python code using NumPy, Matplotlib, and Keras to perform image\n",
        "classification for the Fashion_MINIST datset (https://github.com/zalandoresearch/fashionmnist)\n",
        "1. (5pt) Load the dataset using tf.keras.datasets.fashion_mnist.load_data() and show the first 12 images of the training dataset in two rows.\n",
        "\n",
        "\n",
        "\n"
      ]
    },
    {
      "cell_type": "code",
      "metadata": {
        "id": "GUTWbv8JkrVQ"
      },
      "source": [
        "import matplotlib.pyplot as plt\n",
        "import pandas as pd\n",
        "import tensorflow as tf\n",
        "from tensorflow import keras\n",
        "\n",
        "import numpy as np  \n",
        "np.random.seed(100)\n",
        "\n",
        "tf.random.set_seed(100)"
      ],
      "execution_count": null,
      "outputs": []
    },
    {
      "cell_type": "code",
      "metadata": {
        "id": "Y9Ghg78siooy",
        "colab": {
          "base_uri": "https://localhost:8080/"
        },
        "outputId": "20b3ca18-bbe5-459e-9f70-91e803833be8"
      },
      "source": [
        "(train_images, train_labels), (test_images, test_labels)= tf.keras.datasets.fashion_mnist.load_data()\n",
        "print(\"train_images shape:\", train_images.shape, \"train_labels shape:\", train_labels.shape)"
      ],
      "execution_count": null,
      "outputs": [
        {
          "output_type": "stream",
          "name": "stdout",
          "text": [
            "Downloading data from https://storage.googleapis.com/tensorflow/tf-keras-datasets/train-labels-idx1-ubyte.gz\n",
            "32768/29515 [=================================] - 0s 0us/step\n",
            "40960/29515 [=========================================] - 0s 0us/step\n",
            "Downloading data from https://storage.googleapis.com/tensorflow/tf-keras-datasets/train-images-idx3-ubyte.gz\n",
            "26427392/26421880 [==============================] - 0s 0us/step\n",
            "26435584/26421880 [==============================] - 0s 0us/step\n",
            "Downloading data from https://storage.googleapis.com/tensorflow/tf-keras-datasets/t10k-labels-idx1-ubyte.gz\n",
            "16384/5148 [===============================================================================================] - 0s 0us/step\n",
            "Downloading data from https://storage.googleapis.com/tensorflow/tf-keras-datasets/t10k-images-idx3-ubyte.gz\n",
            "4423680/4422102 [==============================] - 0s 0us/step\n",
            "4431872/4422102 [==============================] - 0s 0us/step\n",
            "train_images shape: (60000, 28, 28) train_labels shape: (60000,)\n"
          ]
        }
      ]
    },
    {
      "cell_type": "code",
      "metadata": {
        "colab": {
          "base_uri": "https://localhost:8080/",
          "height": 433
        },
        "id": "1lOTOBiOzGZW",
        "outputId": "123de8ed-e1b7-4b7d-f229-ad3f3e648e7d"
      },
      "source": [
        "labels_map = {0: 'T-Shirt', 1: 'Trouser', 2: 'Pullover', 3: 'Dress', 4: 'Coat',\n",
        "              5: 'Sandal', 6: 'Shirt', 7: 'Sneaker', 8: 'Bag', 9: 'Ankle Boot'}\n",
        "columns = 6\n",
        "rows = 2\n",
        "fig = plt.figure(figsize=(10, 10))\n",
        "\n",
        "for i in range(1, columns * rows+1):\n",
        "    data_idx = np.random.randint(len(train_images))\n",
        "    img = train_images[data_idx].reshape([28, 28])\n",
        "    label = labels_map[train_labels[data_idx]]\n",
        "\n",
        "    fig.add_subplot(rows, columns, i)\n",
        "    plt.title(label)\n",
        "    plt.imshow(img, cmap='gray')\n",
        "    plt.axis('off')\n",
        "plt.tight_layout()\n",
        "plt.show()"
      ],
      "execution_count": null,
      "outputs": [
        {
          "output_type": "display_data",
          "data": {
            "image/png": "[encoded data removed]",
            "text/plain": [
              "<Figure size 720x720 with 12 Axes>"
            ]
          },
          "metadata": {
            "needs_background": "light"
          }
        }
      ]
    },
    {
      "cell_type": "markdown",
      "metadata": {
        "id": "IGeZ6JmFkCZG"
      },
      "source": [
        "\n",
        "1. (5pt) Add the “depth” dimension to the training/testing image data using .reshape(), use to_categorical() to transform all labels into their one-hot encoding forms, and normalize the pixel values of all images into [0, 1]. Print out the shapes of training and testing images. Note that the imported training/testing image data have a shape of (number_samples, image_height, image_width) and you want to reshape it into the shape of (number_samples, image_height, image_width, image_depth/image_channels)"
      ]
    },
    {
      "cell_type": "code",
      "metadata": {
        "id": "_60KaQDzelBb"
      },
      "source": [
        "from tensorflow.keras.utils import to_categorical\n",
        "#reshape data\n",
        "train_images = train_images.reshape((60000, 28, 28, 1))\n",
        "test_images = test_images.reshape((10000, 28, 28, 1))\n",
        "# convert from integers to floats and normalize to range 0-1\n",
        "train_images = train_images.astype('float32') / 255\n",
        "test_images = test_images.astype('float32') / 255\n",
        "# convert labes based on one hot encoding\n",
        "train_labels = to_categorical(train_labels)\n",
        "test_labels = to_categorical(test_labels)"
      ],
      "execution_count": null,
      "outputs": []
    },
    {
      "cell_type": "code",
      "metadata": {
        "colab": {
          "base_uri": "https://localhost:8080/"
        },
        "id": "BXZkoLaOkr5S",
        "outputId": "6a2c2b52-0f4b-40ed-f60e-8dda2803d42e"
      },
      "source": [
        "print(\"Number of train data - \" + str(len(train_images)))\n",
        "print(\"Number of test data - \" + str(len(test_images)))"
      ],
      "execution_count": null,
      "outputs": [
        {
          "output_type": "stream",
          "name": "stdout",
          "text": [
            "Number of train data - 60000\n",
            "Number of test data - 10000\n"
          ]
        }
      ]
    },
    {
      "cell_type": "markdown",
      "metadata": {
        "id": "cPM-FU2qkCu0"
      },
      "source": [
        "2. (10pt) Build a CNN model using a stack of Conv2D (128 filters of size (3, 3) with ReLU\n",
        "activation), MaxPooling2D (pool size of (2, 2)), Conv2D (64 filters of size (3, 3 with ReLU activation), MaxPooling2D (pool size of (2, 2)), Dense (128 hidden units with ReLU activation), and output layer. Display the model architecture using .summary(). You need to specify other parameters of the input layer and output layer."
      ]
    },
    {
      "cell_type": "code",
      "metadata": {
        "colab": {
          "base_uri": "https://localhost:8080/"
        },
        "id": "SKZzfKtPksXn",
        "outputId": "5e628d7d-03be-4a69-bc30-7989d1b7b265"
      },
      "source": [
        "from keras import layers\n",
        "from keras import models\n",
        "model = models.Sequential()\n",
        "model.add(layers.Conv2D(128, (3, 3), activation='relu', input_shape=(28, 28, 1)))\n",
        "model.add(layers.MaxPooling2D((2, 2)))\n",
        "model.add(layers.Conv2D(64, (3, 3), activation='relu'))\n",
        "model.add(layers.MaxPooling2D((2, 2)))\n",
        "model.add(layers.Flatten())\n",
        "model.add(layers.Dense(128, activation='relu'))\n",
        "model.add(layers.Dense(10, activation='softmax'))\n",
        "model.summary()"
      ],
      "execution_count": null,
      "outputs": [
        {
          "output_type": "stream",
          "name": "stdout",
          "text": [
            "Model: \"sequential\"\n",
            "_________________________________________________________________\n",
            " Layer (type)                Output Shape              Param #   \n",
            "=================================================================\n",
            " conv2d (Conv2D)             (None, 26, 26, 128)       1280      \n",
            "                                                                 \n",
            " max_pooling2d (MaxPooling2D  (None, 13, 13, 128)      0         \n",
            " )                                                               \n",
            "                                                                 \n",
            " conv2d_1 (Conv2D)           (None, 11, 11, 64)        73792     \n",
            "                                                                 \n",
            " max_pooling2d_1 (MaxPooling  (None, 5, 5, 64)         0         \n",
            " 2D)                                                             \n",
            "                                                                 \n",
            " flatten (Flatten)           (None, 1600)              0         \n",
            "                                                                 \n",
            " dense (Dense)               (None, 128)               204928    \n",
            "                                                                 \n",
            " dense_1 (Dense)             (None, 10)                1290      \n",
            "                                                                 \n",
            "=================================================================\n",
            "Total params: 281,290\n",
            "Trainable params: 281,290\n",
            "Non-trainable params: 0\n",
            "_________________________________________________________________\n"
          ]
        }
      ]
    },
    {
      "cell_type": "markdown",
      "metadata": {
        "id": "blHIC7JpkC54"
      },
      "source": [
        "3. (10pt) Compile and train the model for 10 epochs and batch size of 32. Set verbose = 0 during the training to compress the training progress. Draw the plot of the training accuracy w.r.t. the epoch number. You need to specify the right optimizer, loss function, and metrics for this task."
      ]
    },
    {
      "cell_type": "code",
      "metadata": {
        "colab": {
          "base_uri": "https://localhost:8080/"
        },
        "id": "1JZZ650UhRGx",
        "outputId": "969a3927-7370-4893-de3a-31f365f9ee9b"
      },
      "source": [
        "batch_size = 32\n",
        "epochs = 10\n",
        "model.compile(loss=\"categorical_crossentropy\", optimizer=\"adam\", metrics=[\"accuracy\"])\n",
        "history=model.fit(train_images, train_labels, batch_size=batch_size, epochs=epochs)"
      ],
      "execution_count": null,
      "outputs": [
        {
          "output_type": "stream",
          "name": "stdout",
          "text": [
            "Epoch 1/10\n",
            "1875/1875 [==============================] - 181s 96ms/step - loss: 0.1740 - accuracy: 0.9363\n",
            "Epoch 2/10\n",
            "1875/1875 [==============================] - 182s 97ms/step - loss: 0.1493 - accuracy: 0.9446\n",
            "Epoch 3/10\n",
            "1875/1875 [==============================] - 182s 97ms/step - loss: 0.1302 - accuracy: 0.9511\n",
            "Epoch 4/10\n",
            "1875/1875 [==============================] - 183s 98ms/step - loss: 0.1142 - accuracy: 0.9571\n",
            "Epoch 5/10\n",
            "1875/1875 [==============================] - 183s 98ms/step - loss: 0.1001 - accuracy: 0.9617\n",
            "Epoch 6/10\n",
            "1875/1875 [==============================] - 185s 99ms/step - loss: 0.0892 - accuracy: 0.9667\n",
            "Epoch 7/10\n",
            "1875/1875 [==============================] - 184s 98ms/step - loss: 0.0777 - accuracy: 0.9703\n",
            "Epoch 8/10\n",
            "1875/1875 [==============================] - 185s 99ms/step - loss: 0.0688 - accuracy: 0.9733\n",
            "Epoch 9/10\n",
            "1875/1875 [==============================] - 185s 99ms/step - loss: 0.0616 - accuracy: 0.9763\n",
            "Epoch 10/10\n",
            "1875/1875 [==============================] - 183s 98ms/step - loss: 0.0585 - accuracy: 0.9782\n"
          ]
        }
      ]
    },
    {
      "cell_type": "code",
      "metadata": {
        "colab": {
          "base_uri": "https://localhost:8080/",
          "height": 295
        },
        "id": "h2DLqmBgGwPp",
        "outputId": "4654e8c9-32d2-4b1b-e03f-c2b11f1c1c53"
      },
      "source": [
        "plt.plot(history.history['accuracy'])\n",
        "# plt.plot(history.history['val_accuracy'])\n",
        "plt.title('model accuracy')\n",
        "plt.ylabel('accuracy')\n",
        "plt.xlabel('epoch')\n",
        "# plt.legend(['train','test'], loc='upper left')\n",
        "plt.show()"
      ],
      "execution_count": null,
      "outputs": [
        {
          "output_type": "display_data",
          "data": {
            "image/png": "[encoded data removed]",
            "text/plain": [
              "<Figure size 432x288 with 1 Axes>"
            ]
          },
          "metadata": {
            "needs_background": "light"
          }
        }
      ]
    },
    {
      "cell_type": "markdown",
      "metadata": {
        "id": "fN5WDAVbkDHV"
      },
      "source": [
        "4. (5pt) Test your trained model on the testing dataset and observe the loss and accuracy using .evaluate()."
      ]
    },
    {
      "cell_type": "code",
      "metadata": {
        "colab": {
          "base_uri": "https://localhost:8080/"
        },
        "id": "Bi1RhnlnH0cx",
        "outputId": "87ac6fdb-81e4-4b69-a3ad-25f9c86e9609"
      },
      "source": [
        "_,acc=model.evaluate(test_images, test_labels, verbose=0)\n",
        "print('> %.3f' % (acc * 100.0))"
      ],
      "execution_count": null,
      "outputs": [
        {
          "output_type": "stream",
          "name": "stdout",
          "text": [
            "> 90.370\n"
          ]
        }
      ]
    },
    {
      "cell_type": "markdown",
      "metadata": {
        "id": "wltcX6l1jU0V"
      },
      "source": [
        "## P2 (65pt):\n",
        "Write a Python code using NumPy, Matploblib and Keras to perform image\n",
        "classification using pre-trained model for the CIFAR-10 dataset\n",
        "(https://www.cs.toronto.edu/~kriz/cifar.html).\n",
        "\n",
        "2. (5pt) Load the dataset using tf.keras.datasets.cifar10.load_data() and show the first 20 images of the training dataset in two rows. You will obtain the pair of feature matrix and label vector for the training dataset and the pair of feature matrix and label vector for the testing dataset at the end of this step. Note that the CIFAR-10 dataset consists of 60000 32x32 color images in 10 classes, each with a label value within [0, 9]. In the following step, we want to partition this dataset into two training/testing pairs, one containing images with labels in [0, 4] and the other containing images with labels in [5, 9].\n",
        "\n",
        "\n",
        "\n",
        "\n",
        "\n",
        "\n",
        "\n",
        "\n"
      ]
    },
    {
      "cell_type": "code",
      "metadata": {
        "id": "PbOKgluvnu35",
        "colab": {
          "base_uri": "https://localhost:8080/"
        },
        "outputId": "a16abf9d-5433-4c76-dd9e-00ebebcd46ee"
      },
      "source": [
        "(train_images, train_labels), (test_images, test_labels)= tf.keras.datasets.cifar10.load_data()\n",
        "print(\"train_images shape:\", train_images.shape, \"train_labels shape:\", train_labels.shape)"
      ],
      "execution_count": null,
      "outputs": [
        {
          "output_type": "stream",
          "name": "stdout",
          "text": [
            "Downloading data from https://www.cs.toronto.edu/~kriz/cifar-10-python.tar.gz\n",
            "170500096/170498071 [==============================] - 2s 0us/step\n",
            "170508288/170498071 [==============================] - 2s 0us/step\n",
            "train_images shape: (50000, 32, 32, 3) train_labels shape: (50000, 1)\n"
          ]
        }
      ]
    },
    {
      "cell_type": "code",
      "metadata": {
        "id": "KV4vsWEZnvKm",
        "colab": {
          "base_uri": "https://localhost:8080/",
          "height": 252
        },
        "outputId": "5d69cb31-0911-470b-d8ac-5d6667ba1564"
      },
      "source": [
        "labels_map = {0: 'airplane', 1: 'automobile', 2: 'bird', 3: 'cat', 4: 'deer',\n",
        "              5: 'dog', 6: 'frog', 7: 'horse', 8: 'ship', 9: ' truck'}\n",
        "columns = 20\n",
        "rows = 2\n",
        "fig = plt.figure(figsize=(5, 5))\n",
        "\n",
        "for i in range(1, columns * rows+1):\n",
        "    data_idx = np.random.randint(len(train_images))\n",
        "    img = train_images[data_idx].reshape([32, 32])\n",
        "    label = labels_map[train_labels[data_idx]]\n",
        "\n",
        "    fig.add_subplot(rows, columns, i)\n",
        "    plt.title(label)\n",
        "    plt.imshow(img, cmap='gray')\n",
        "    plt.axis('off')\n",
        "plt.tight_layout()\n",
        "plt.show()"
      ],
      "execution_count": null,
      "outputs": [
        {
          "output_type": "error",
          "ename": "ValueError",
          "evalue": "ignored",
          "traceback": [
            "\u001b[0;31m---------------------------------------------------------------------------\u001b[0m",
            "\u001b[0;31mValueError\u001b[0m                                Traceback (most recent call last)",
            "\u001b[0;32m<ipython-input-28-14cb7608fd53>\u001b[0m in \u001b[0;36m<module>\u001b[0;34m()\u001b[0m\n\u001b[1;32m      7\u001b[0m \u001b[0;32mfor\u001b[0m \u001b[0mi\u001b[0m \u001b[0;32min\u001b[0m \u001b[0mrange\u001b[0m\u001b[0;34m(\u001b[0m\u001b[0;36m1\u001b[0m\u001b[0;34m,\u001b[0m \u001b[0mcolumns\u001b[0m \u001b[0;34m*\u001b[0m \u001b[0mrows\u001b[0m\u001b[0;34m+\u001b[0m\u001b[0;36m1\u001b[0m\u001b[0;34m)\u001b[0m\u001b[0;34m:\u001b[0m\u001b[0;34m\u001b[0m\u001b[0;34m\u001b[0m\u001b[0m\n\u001b[1;32m      8\u001b[0m     \u001b[0mdata_idx\u001b[0m \u001b[0;34m=\u001b[0m \u001b[0mnp\u001b[0m\u001b[0;34m.\u001b[0m\u001b[0mrandom\u001b[0m\u001b[0;34m.\u001b[0m\u001b[0mrandint\u001b[0m\u001b[0;34m(\u001b[0m\u001b[0mlen\u001b[0m\u001b[0;34m(\u001b[0m\u001b[0mtrain_images\u001b[0m\u001b[0;34m)\u001b[0m\u001b[0;34m)\u001b[0m\u001b[0;34m\u001b[0m\u001b[0;34m\u001b[0m\u001b[0m\n\u001b[0;32m----> 9\u001b[0;31m     \u001b[0mimg\u001b[0m \u001b[0;34m=\u001b[0m \u001b[0mtrain_images\u001b[0m\u001b[0;34m[\u001b[0m\u001b[0mdata_idx\u001b[0m\u001b[0;34m]\u001b[0m\u001b[0;34m.\u001b[0m\u001b[0mreshape\u001b[0m\u001b[0;34m(\u001b[0m\u001b[0;34m[\u001b[0m\u001b[0;36m32\u001b[0m\u001b[0;34m,\u001b[0m \u001b[0;36m32\u001b[0m\u001b[0;34m]\u001b[0m\u001b[0;34m)\u001b[0m\u001b[0;34m\u001b[0m\u001b[0;34m\u001b[0m\u001b[0m\n\u001b[0m\u001b[1;32m     10\u001b[0m     \u001b[0mlabel\u001b[0m \u001b[0;34m=\u001b[0m \u001b[0mlabels_map\u001b[0m\u001b[0;34m[\u001b[0m\u001b[0mtrain_labels\u001b[0m\u001b[0;34m[\u001b[0m\u001b[0mdata_idx\u001b[0m\u001b[0;34m]\u001b[0m\u001b[0;34m]\u001b[0m\u001b[0;34m\u001b[0m\u001b[0;34m\u001b[0m\u001b[0m\n\u001b[1;32m     11\u001b[0m \u001b[0;34m\u001b[0m\u001b[0m\n",
            "\u001b[0;31mValueError\u001b[0m: cannot reshape array of size 3072 into shape (32,32)"
          ]
        },
        {
          "output_type": "display_data",
          "data": {
            "text/plain": [
              "<Figure size 360x360 with 0 Axes>"
            ]
          },
          "metadata": {}
        }
      ]
    },
    {
      "cell_type": "markdown",
      "metadata": {
        "id": "dL50LmjvnHMY"
      },
      "source": [
        "3. (5 pt) Reshape the label vectors in both the training and testing datasets to 1D using .reshape(), and compare them with 5 to find out the indices of images that have class labels < 5 and class labels >= 5, respectively, in the training and testing datasets. You will obtain four index arrays of Boolean values at the end of this step (<5 and >= 5 for training dataset and <5 and >=5 for testing dataset). Hint: label_vector < 5 and label_vector >= 5 will generate such indices"
      ]
    },
    {
      "cell_type": "code",
      "metadata": {
        "id": "py-xI36Dnv0I"
      },
      "source": [
        ""
      ],
      "execution_count": null,
      "outputs": []
    },
    {
      "cell_type": "markdown",
      "metadata": {
        "id": "Wn02U7FGnHZ8"
      },
      "source": [
        "4. (5 pt) Use the index arrays obtained in the previous step to split the training/testing dataset\n",
        "into two subsets (each consisting of a feature matrix and a label vector): one with class labels < 5 and one with class labels >= 5. Print out the shapes of the resulting subsets for both training and testing datasets. You will obtain four subsets at the end of this step: one pair of training and testing\n",
        "subsets of images with class labels < 5 and another pair of training and testing subsets of images with class labels >= 5."
      ]
    },
    {
      "cell_type": "code",
      "metadata": {
        "id": "4CMfV00Lnwdk"
      },
      "source": [
        ""
      ],
      "execution_count": null,
      "outputs": []
    },
    {
      "cell_type": "markdown",
      "metadata": {
        "id": "Y9r4-zqLnHmf"
      },
      "source": [
        "5. (5pt) Subtract 5 from the label vectors of the pair of training and testing subsets with class\n",
        "labels >= 5 so that the label vectors in this pair of subsets contains values from 0 to 4. Use to_categorical() to transform all labels into their one-hot encoding forms, and normalize the pixel values of all images into [0, 1]."
      ]
    },
    {
      "cell_type": "code",
      "metadata": {
        "id": "Pq38LUpFnw4-"
      },
      "source": [
        ""
      ],
      "execution_count": null,
      "outputs": []
    },
    {
      "cell_type": "markdown",
      "metadata": {
        "id": "tcmvZGBDnHxw"
      },
      "source": [
        "6. (5pt) Build a CNN model_1 using a stack of Conv2D (64 filters of size (3, 3) with ReLU activation), Conv2D (64 filters of size (3, 3) with ReLU activation), MaxPooling2D (pool size of (2, 2)), Dense (128 hidden units with ReLU activation), and output layer. Display the model architecture using .summary().\n",
        "You need to specify the correct hyperparameters of the input layer and output layer."
      ]
    },
    {
      "cell_type": "code",
      "metadata": {
        "id": "PHlmU26Tnxg0"
      },
      "source": [
        ""
      ],
      "execution_count": null,
      "outputs": []
    },
    {
      "cell_type": "markdown",
      "metadata": {
        "id": "lYFHfUJknH8S"
      },
      "source": [
        "7. (10pt) Compile and train the model on the subset of training images with class labels < 5 for 20 epochs and batch size of 128. Set verbose = 0 during the training to compress the results. Draw the plot of the training accuracy w.r.t. the epoch number. You need to specify the correct optimizer, loss function, and metrics for this task."
      ]
    },
    {
      "cell_type": "code",
      "metadata": {
        "id": "gaF8UHomnyBy"
      },
      "source": [
        ""
      ],
      "execution_count": null,
      "outputs": []
    },
    {
      "cell_type": "markdown",
      "metadata": {
        "id": "pJQDUDIBnIE2"
      },
      "source": [
        "8. (5pt) Test your trained model_1 on the subset of testing images with class labels <5 and observe the loss and accuracy using .evaluate()."
      ]
    },
    {
      "cell_type": "code",
      "metadata": {
        "id": "xIMejFPsnyxI"
      },
      "source": [
        ""
      ],
      "execution_count": null,
      "outputs": []
    },
    {
      "cell_type": "markdown",
      "metadata": {
        "id": "iiKi54conINL"
      },
      "source": [
        "9. (10pt) Build a new CNN model_2 that has the same architecture as model_1\n",
        "and reuse the pre-trained convolutional base layers of model_1 (i.e., all layers before applying flatten()). You need to freeze the pre-trained convolutional base layers of model_2 so that their model parameters will not be changed during the training. Display the model architecture of model_2 using .summary(). One method to achieve the above step is as follows (You can use other methods as long as they achieve the same goal):"
      ]
    },
    {
      "cell_type": "code",
      "metadata": {
        "id": "bdh13WzenzQF"
      },
      "source": [
        ""
      ],
      "execution_count": null,
      "outputs": []
    },
    {
      "cell_type": "markdown",
      "metadata": {
        "id": "0GRlPgennIV0"
      },
      "source": [
        "10. (10pt) Compile model_2, and train it on the subset of training images with class labels >=5 for 20 epochs and batch size of 128. Draw the plot of the training accuracy w.r.t. the epoch number."
      ]
    },
    {
      "cell_type": "code",
      "metadata": {
        "id": "yjlnHwVkn0Fa"
      },
      "source": [
        ""
      ],
      "execution_count": null,
      "outputs": []
    },
    {
      "cell_type": "markdown",
      "metadata": {
        "id": "U1WrCfkRnIfj"
      },
      "source": [
        "11. (5pt) Test your trained model_2 on the subset of testing images with class labels >=5 and observe the loss and accuracy using .evaluate(). Submission Instruction: Submit a PDF file of your codes and outputs and a Google Colab shared link to your source file (.ipynb format) to Blackboard."
      ]
    },
    {
      "cell_type": "code",
      "metadata": {
        "id": "RC9Bf0-pn0oy"
      },
      "source": [
        ""
      ],
      "execution_count": null,
      "outputs": []
    }
  ]
}